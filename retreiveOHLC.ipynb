{
 "cells": [
  {
   "cell_type": "markdown",
   "id": "448a4120",
   "metadata": {},
   "source": [
    "**Requirements**\n",
    "\n",
    "pip install krakenex  \n",
    "pip install pykrakenapi"
   ]
  },
  {
   "cell_type": "code",
   "execution_count": 1,
   "id": "29ce0ac5",
   "metadata": {},
   "outputs": [],
   "source": [
    "from krakenex import API\n",
    "from pykrakenapi import KrakenAPI\n",
    "\n",
    "k = KrakenAPI(API())"
   ]
  },
  {
   "cell_type": "code",
   "execution_count": 2,
   "id": "ffee60c3",
   "metadata": {},
   "outputs": [],
   "source": [
    "markets = ['XRP','BTC']"
   ]
  },
  {
   "cell_type": "code",
   "execution_count": 3,
   "id": "4ec5092b",
   "metadata": {},
   "outputs": [
    {
     "name": "stdout",
     "output_type": "stream",
     "text": [
      "{'default': 1577847600.0, 'XRP': 1649871360, 'BTC': 1649871420}\n"
     ]
    }
   ],
   "source": [
    "from datetime import datetime\n",
    "from os import path\n",
    "import pandas as pd\n",
    "\n",
    "getSince = { 'default': datetime(2020,1,1).timestamp() }\n",
    "\n",
    "for market in markets:\n",
    "    marketFile = market + '.csv'\n",
    "    if path.exists(marketFile):\n",
    "        df = pd.read_csv(marketFile)\n",
    "        getSince[market] = df.iloc[-1].time\n",
    "    else:\n",
    "        getSince[market] = getSince['default']\n",
    "        \n",
    "print(getSince)"
   ]
  },
  {
   "cell_type": "code",
   "execution_count": 5,
   "id": "5208cc34",
   "metadata": {
    "scrolled": true
   },
   "outputs": [
    {
     "name": "stdout",
     "output_type": "stream",
     "text": [
      "Retreiving XRP at 13/04/2022 19:55:29\n",
      "\t last record: \t 2022-04-13 23:52:00\n",
      "\t first retreived: \t 2022-04-13 23:53:00\n",
      "\t last retreived: \t 2022-04-13 23:54:00\n",
      "Retreiving BTC at 13/04/2022 19:55:31\n",
      "\t last record: \t 2022-04-13 23:52:00\n",
      "\t first retreived: \t 2022-04-13 23:53:00\n",
      "\t last retreived: \t 2022-04-13 23:54:00\n",
      " ... waiting 0"
     ]
    },
    {
     "ename": "KeyboardInterrupt",
     "evalue": "",
     "output_type": "error",
     "traceback": [
      "\u001b[0;31m---------------------------------------------------------------------------\u001b[0m",
      "\u001b[0;31mKeyboardInterrupt\u001b[0m                         Traceback (most recent call last)",
      "\u001b[0;32m<ipython-input-5-c90cc94b3733>\u001b[0m in \u001b[0;36m<module>\u001b[0;34m()\u001b[0m\n\u001b[1;32m     24\u001b[0m     \u001b[0mprint\u001b[0m\u001b[0;34m(\u001b[0m\u001b[0;34m' ... waiting 0'\u001b[0m\u001b[0;34m,\u001b[0m \u001b[0mend\u001b[0m \u001b[0;34m=\u001b[0m \u001b[0;34m\"\"\u001b[0m\u001b[0;34m)\u001b[0m\u001b[0;34m\u001b[0m\u001b[0;34m\u001b[0m\u001b[0m\n\u001b[1;32m     25\u001b[0m     \u001b[0;32mfor\u001b[0m \u001b[0mi\u001b[0m \u001b[0;32min\u001b[0m \u001b[0mrange\u001b[0m\u001b[0;34m(\u001b[0m\u001b[0;36m6\u001b[0m\u001b[0;34m)\u001b[0m\u001b[0;34m:\u001b[0m\u001b[0;34m\u001b[0m\u001b[0;34m\u001b[0m\u001b[0m\n\u001b[0;32m---> 26\u001b[0;31m         \u001b[0msleep\u001b[0m\u001b[0;34m(\u001b[0m\u001b[0;36m600\u001b[0m\u001b[0;34m)\u001b[0m\u001b[0;34m\u001b[0m\u001b[0;34m\u001b[0m\u001b[0m\n\u001b[0m\u001b[1;32m     27\u001b[0m         \u001b[0mprint\u001b[0m\u001b[0;34m(\u001b[0m\u001b[0;34m','\u001b[0m\u001b[0;34m,\u001b[0m \u001b[0;36m10\u001b[0m\u001b[0;34m*\u001b[0m\u001b[0;34m(\u001b[0m\u001b[0mi\u001b[0m\u001b[0;34m+\u001b[0m\u001b[0;36m1\u001b[0m\u001b[0;34m)\u001b[0m\u001b[0;34m,\u001b[0m \u001b[0mend\u001b[0m \u001b[0;34m=\u001b[0m \u001b[0;34m\"\"\u001b[0m\u001b[0;34m)\u001b[0m\u001b[0;34m\u001b[0m\u001b[0;34m\u001b[0m\u001b[0m\n\u001b[1;32m     28\u001b[0m     \u001b[0mprint\u001b[0m\u001b[0;34m(\u001b[0m\u001b[0;34m', 60, done! let\\'s go again'\u001b[0m\u001b[0;34m)\u001b[0m\u001b[0;34m\u001b[0m\u001b[0;34m\u001b[0m\u001b[0m\n",
      "\u001b[0;31mKeyboardInterrupt\u001b[0m: "
     ]
    }
   ],
   "source": [
    "# Get open high low close data since date\n",
    "from time import mktime, sleep\n",
    "from datetime import datetime\n",
    "from os import path\n",
    "\n",
    "# interval = {1, 5, 15, 30, 60, 240, 1440, 10080, 21600} [min]\n",
    "\n",
    "def extendCSV(df,fileName):\n",
    "    df.to_csv(fileName, mode='a', header=not path.exists(fileName))\n",
    "\n",
    "while True:    \n",
    "    for im, market in enumerate(markets):\n",
    "        print('Retreiving '+market+' at',datetime.now().strftime(\"%d/%m/%Y %H:%M:%S\"))\n",
    "        print('\\t last record: \\t',datetime.utcfromtimestamp(getSince[market]))\n",
    "    \n",
    "        ohlc, getSince[market] = k.get_ohlc_data(pair = market+'USD',interval=1,since = getSince[market],ascending = True)\n",
    "        \n",
    "        print('\\t first retreived: \\t',datetime.utcfromtimestamp(ohlc.iloc[0].time))\n",
    "        print('\\t last retreived: \\t',datetime.utcfromtimestamp(getSince[market]))\n",
    "    \n",
    "        extendCSV(ohlc.iloc[:-1], market+'.csv')\n",
    "        sleep(1)\n",
    "    \n",
    "    print(' ... waiting 0', end = \"\")\n",
    "    for i in range(6):\n",
    "        sleep(600)\n",
    "        print(',', 10*(i+1), end = \"\")\n",
    "    print(', 60, done! let\\'s go again')"
   ]
  },
  {
   "cell_type": "code",
   "execution_count": null,
   "id": "49b0d6bf",
   "metadata": {},
   "outputs": [],
   "source": []
  }
 ],
 "metadata": {
  "kernelspec": {
   "display_name": "Python 3",
   "language": "python",
   "name": "python3"
  },
  "language_info": {
   "codemirror_mode": {
    "name": "ipython",
    "version": 3
   },
   "file_extension": ".py",
   "mimetype": "text/x-python",
   "name": "python",
   "nbconvert_exporter": "python",
   "pygments_lexer": "ipython3",
   "version": "3.6.9"
  }
 },
 "nbformat": 4,
 "nbformat_minor": 5
}
