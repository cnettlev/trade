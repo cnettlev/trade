{
 "cells": [
  {
   "cell_type": "code",
   "execution_count": 5,
   "id": "93aac4ef",
   "metadata": {},
   "outputs": [],
   "source": [
    "from add_indicators import *"
   ]
  },
  {
   "cell_type": "code",
   "execution_count": 5,
   "id": "90a6229a",
   "metadata": {},
   "outputs": [
    {
     "name": "stdout",
     "output_type": "stream",
     "text": [
      "{'AAVE': [0.02, 0.02], 'ALGO': [0.02, 0.02], 'APE': [0.02, 0.02], 'ARB': [0.02, 0.02], 'BTC': [0.01, 0.01], 'BCH': [0.02, 0.02], 'BLUR': [0.02, 0.02], 'GBP': [0.015, 0.015], 'CAD': [0.015, 0.015], 'ADA': [0.02, 0.02], 'Link': [0.02, 0.02], 'COMP': [0.02, 0.02], 'ATOM': [0.02, 0.02], 'CRV': [0.02, 0.02], 'DAI': [0.02, 0.02], 'DASH': [0.02, 0.02], 'DOGE': [0.02, 0.02], 'EOS': [0.02, 0.02], 'ETH': [0.02, 0.02], 'ETC': [0.02, 0.02], 'EUR': [0.015, 0.015], 'FTM': [0.02, 0.02], 'FLR': [0.02, 0.02], 'FIL': [0.02, 0.02], 'Flow': [0.02, 0.02], 'KAVA': [0.02, 0.02], 'KEEP': [0.02, 0.02], 'KSM': [0.02, 0.02], 'LTC': [0.02, 0.02], 'LRC': [0.02, 0.02], 'XMR': [0.02, 0.02], 'NANO': [0.02, 0.02], 'OMG': [0.02, 0.02], 'PAXG': [0.02, 0.02], 'DOT': [0.02, 0.02], 'MATIC': [0.02, 0.02], 'XRP': [0.02, 0.02], 'SOL': [0.02, 0.02], 'SC': [0.02, 0.02], 'XLM': [0.02, 0.02], 'GRT': [0.02, 0.02], 'SAND': [0.02, 0.02], 'USDT': [0.02, 0.02], 'XTZ': [0.02, 0.02], 'TRX': [0.02, 0.02], 'UNI': [0.02, 0.02], 'USDC': [0.02, 0.02], 'USD': [0.015, 0.015], 'WAVES': [0.02, 0.02], 'ZEC': [0.02, 0.02], 'maker-taker': [0.16, 0.26]}\n",
      "0.26\n"
     ]
    }
   ],
   "source": [
    "import pandas as pd\n",
    "\n",
    "df = pd.read_csv('kraken-fees')\n",
    "fees = df.set_index('coin').T.to_dict('list')\n",
    "\n",
    "taker_fee = fees['maker-taker'][1]"
   ]
  },
  {
   "cell_type": "code",
   "execution_count": 61,
   "id": "63b65e1c",
   "metadata": {},
   "outputs": [],
   "source": [
    "def exchange(currentPrice,units,sell=False,fee=taker_fee):\n",
    "    if sell:\n",
    "        price = (units*currentPrice*fee)/100.0\n",
    "        revenue = units*currentPrice - price\n",
    "    else:\n",
    "        price = units*currentPrice*(1+fee/100.0)\n",
    "        \n",
    "    return revenue if sell else price"
   ]
  },
  {
   "cell_type": "code",
   "execution_count": 62,
   "id": "2efd7ec3",
   "metadata": {},
   "outputs": [
    {
     "name": "stdout",
     "output_type": "stream",
     "text": [
      "4.575332700000001\n"
     ]
    }
   ],
   "source": [
    "print(exchange(data['close'].iloc[10],10,sell=True)-exchange(data['close'].iloc[100000],10))"
   ]
  }
 ],
 "metadata": {
  "kernelspec": {
   "display_name": "Python 3",
   "language": "python",
   "name": "python3"
  },
  "language_info": {
   "codemirror_mode": {
    "name": "ipython",
    "version": 3
   },
   "file_extension": ".py",
   "mimetype": "text/x-python",
   "name": "python",
   "nbconvert_exporter": "python",
   "pygments_lexer": "ipython3",
   "version": "3.6.9"
  }
 },
 "nbformat": 4,
 "nbformat_minor": 5
}
